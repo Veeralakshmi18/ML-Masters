{
 "cells": [
  {
   "cell_type": "markdown",
   "metadata": {},
   "source": [
    "### Task 1"
   ]
  },
  {
   "cell_type": "markdown",
   "metadata": {},
   "source": [
    "#### 1. Write a function to compute 5/0 and use try/except to catch the exceptions."
   ]
  },
  {
   "cell_type": "code",
   "execution_count": 3,
   "metadata": {},
   "outputs": [],
   "source": [
    "def divide(num,dem):\n",
    "    try:\n",
    "        val = num / dem\n",
    "    except:\n",
    "        print(\"Error found: Divided by 0\")\n",
    "    else:\n",
    "        print(\"{} divided by {} = {}\".format(num,dem,val))"
   ]
  },
  {
   "cell_type": "code",
   "execution_count": 12,
   "metadata": {},
   "outputs": [
    {
     "name": "stdout",
     "output_type": "stream",
     "text": [
      "Error found: Divided by 0\n"
     ]
    }
   ],
   "source": [
    "divide(5,0)"
   ]
  },
  {
   "cell_type": "code",
   "execution_count": 4,
   "metadata": {},
   "outputs": [
    {
     "name": "stdout",
     "output_type": "stream",
     "text": [
      "4 divided by 2 = 2.0\n"
     ]
    }
   ],
   "source": [
    "divide(4,2)"
   ]
  },
  {
   "cell_type": "markdown",
   "metadata": {},
   "source": [
    "#### 2.Implement a Python program to generate all sentences where subject is in [\"Americans\", \"Indians\"]\n",
    "####  and verb is in [\"Play\", \"watch\"] and the object is in [\"Baseball\",\"cricket\"]."
   ]
  },
  {
   "cell_type": "markdown",
   "metadata": {},
   "source": [
    "Hint: Subject,Verb and Object should be declared in the program as shown below.\n",
    "subjects=[\"Americans \",\"Indians\"]\n",
    "verbs=[\"play\",\"watch\"]\n",
    "objects=[\"Baseball\",\"Cricket\"]\n",
    "\n",
    "Output should come as below:\n",
    "Americans play Baseball.\n",
    "Americans play Cricket.\n",
    "Americans watch Baseball.\n",
    "Americans watch Cricket.\n",
    "Indians play Baseball.\n",
    "Indians play Cricket.\n",
    "Indians watch Baseball.\n",
    "Indians watch Cricket"
   ]
  },
  {
   "cell_type": "code",
   "execution_count": 17,
   "metadata": {},
   "outputs": [],
   "source": [
    "def sentence(sub,verb,obj):\n",
    "    for i in sub:\n",
    "        for j in verb:\n",
    "            for k in obj:\n",
    "                print (i,j,k)"
   ]
  },
  {
   "cell_type": "code",
   "execution_count": null,
   "metadata": {},
   "outputs": [],
   "source": []
  },
  {
   "cell_type": "code",
   "execution_count": 18,
   "metadata": {},
   "outputs": [
    {
     "name": "stdout",
     "output_type": "stream",
     "text": [
      "Americans  play Baseball\n",
      "Americans  play Cricket\n",
      "Americans  watch Baseball\n",
      "Americans  watch Cricket\n",
      "Indians play Baseball\n",
      "Indians play Cricket\n",
      "Indians watch Baseball\n",
      "Indians watch Cricket\n"
     ]
    }
   ],
   "source": [
    "subjects=[\"Americans \",\"Indians\"]\n",
    "verbs=[\"play\",\"watch\"]\n",
    "objects=[\"Baseball\",\"Cricket\"]\n",
    "\n",
    "sentence(subjects,verbs,objects)"
   ]
  },
  {
   "cell_type": "markdown",
   "metadata": {},
   "source": [
    "### Task 2"
   ]
  },
  {
   "cell_type": "markdown",
   "metadata": {},
   "source": [
    "#### 1 . Write a function so that the columns of the output matrix are powers of the input vector.\n",
    "#### The order of the powers is determined by the increasing boolean argument. Specifically, when\n",
    "#### increasing is False, the i-th output column is the input vector raised element-wise to the power of N - i - 1.\n",
    "#### HINT: Such a matrix with a geometric progression in each row is named for Alexandre-Theophile Vandermonde."
   ]
  },
  {
   "cell_type": "code",
   "execution_count": 9,
   "metadata": {},
   "outputs": [],
   "source": [
    "def getVanderMatrix(x, N=None, increasing=False):\n",
    "    '''Cusomt Vander matrix generator'''\n",
    "\n",
    "    # default condition if N is not given\n",
    "    if N is None:\n",
    "        N = len(x)\n",
    "        \n",
    "    matrix = []\n",
    "    # generating powers for each row based on N value in decreasing order\n",
    "    # which is a default case\n",
    "    pows = [(N-i-1) for N,i in zip([N]*N, range(N))]\n",
    "\n",
    "    # for increaing == True case\n",
    "    # reverse the pows array \n",
    "    if increasing:\n",
    "        pows = pows[::-1]\n",
    "\n",
    "    # iterate over x to generate and print each row\n",
    "    for ele in x:\n",
    "        row = [ele**pwr for pwr in pows] \n",
    "        print(row)\n",
    "        matrix.append(row)\n",
    "    return matrix"
   ]
  },
  {
   "cell_type": "code",
   "execution_count": 10,
   "metadata": {},
   "outputs": [
    {
     "name": "stdout",
     "output_type": "stream",
     "text": [
      "[1, 1, 1]\n",
      "[4, 2, 1]\n",
      "[9, 3, 1]\n"
     ]
    }
   ],
   "source": [
    "inputVector = [1,2,3]\n",
    "no_of_ouput = 3\n",
    "result = getVanderMatrix(x=inputVector, N=no_of_ouput)"
   ]
  },
  {
   "cell_type": "code",
   "execution_count": 11,
   "metadata": {},
   "outputs": [
    {
     "name": "stdout",
     "output_type": "stream",
     "text": [
      "[1, 1, 1]\n",
      "[1, 2, 4]\n",
      "[1, 3, 9]\n"
     ]
    }
   ],
   "source": [
    "inputVector = [1,2,3]\n",
    "no_of_ouput = 3\n",
    "result = getVanderMatrix(x=inputVector, N=no_of_ouput, increasing=True)"
   ]
  },
  {
   "cell_type": "code",
   "execution_count": 31,
   "metadata": {},
   "outputs": [
    {
     "name": "stdout",
     "output_type": "stream",
     "text": [
      "[1, 1, 1, 1]\n",
      "[8, 4, 2, 1]\n",
      "[27, 9, 3, 1]\n",
      "[125, 25, 5, 1]\n"
     ]
    }
   ],
   "source": [
    "inputVector = [1,2,3,5]\n",
    "result = getVanderMatrix(x=inputVector)"
   ]
  },
  {
   "cell_type": "code",
   "execution_count": 34,
   "metadata": {},
   "outputs": [
    {
     "name": "stdout",
     "output_type": "stream",
     "text": [
      "[1, 1, 1]\n",
      "[4, 2, 1]\n",
      "[9, 3, 1]\n",
      "[25, 5, 1]\n"
     ]
    }
   ],
   "source": [
    "inputVector = [1,2,3,5]\n",
    "no_of_ouput = 3\n",
    "result = getVanderMatrix(x=inputVector, N=no_of_ouput)"
   ]
  },
  {
   "cell_type": "code",
   "execution_count": 35,
   "metadata": {},
   "outputs": [
    {
     "name": "stdout",
     "output_type": "stream",
     "text": [
      "[1, 1, 1, 1]\n",
      "[1, 2, 4, 8]\n",
      "[1, 3, 9, 27]\n",
      "[1, 5, 25, 125]\n"
     ]
    }
   ],
   "source": [
    "inputVector = [1,2,3,5]\n",
    "result = getVanderMatrix(x=inputVector, increasing=True)"
   ]
  },
  {
   "cell_type": "code",
   "execution_count": 36,
   "metadata": {},
   "outputs": [
    {
     "name": "stdout",
     "output_type": "stream",
     "text": [
      "[1, 1, 1]\n",
      "[1, 2, 4]\n",
      "[1, 3, 9]\n",
      "[1, 5, 25]\n"
     ]
    }
   ],
   "source": [
    "inputVector = [1,2,3,5]\n",
    "no_of_ouput = 3\n",
    "result = getVanderMatrix(x=inputVector,N=no_of_ouput, increasing=True)"
   ]
  },
  {
   "cell_type": "code",
   "execution_count": null,
   "metadata": {},
   "outputs": [],
   "source": []
  }
 ],
 "metadata": {
  "kernelspec": {
   "display_name": "Python 3",
   "language": "python",
   "name": "python3"
  },
  "language_info": {
   "codemirror_mode": {
    "name": "ipython",
    "version": 3
   },
   "file_extension": ".py",
   "mimetype": "text/x-python",
   "name": "python",
   "nbconvert_exporter": "python",
   "pygments_lexer": "ipython3",
   "version": "3.7.6"
  }
 },
 "nbformat": 4,
 "nbformat_minor": 4
}
